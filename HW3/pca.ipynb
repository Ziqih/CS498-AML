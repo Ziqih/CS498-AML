{
 "cells": [
  {
   "cell_type": "code",
   "execution_count": 1,
   "metadata": {},
   "outputs": [],
   "source": [
    "import numpy as np\n",
    "import pandas as pd\n",
    "from sklearn.decomposition import PCA"
   ]
  },
  {
   "cell_type": "code",
   "execution_count": 6,
   "metadata": {},
   "outputs": [
    {
     "name": "stdout",
     "output_type": "stream",
     "text": [
      "(150, 4)\n",
      "(150, 4)\n",
      "(150, 4)\n",
      "(150, 4)\n",
      "(150, 4)\n",
      "(150, 4)\n",
      "(150, 4)\n",
      "(150, 4)\n",
      "(150, 4)\n",
      "(150, 4)\n",
      "(150, 4)\n",
      "(150, 4)\n",
      "(150, 4)\n",
      "(150, 4)\n",
      "(150, 4)\n",
      "(150, 4)\n",
      "(150, 4)\n",
      "(150, 4)\n",
      "(150, 4)\n",
      "(150, 4)\n",
      "(150, 4)\n",
      "(150, 4)\n",
      "(150, 4)\n",
      "(150, 4)\n",
      "(150, 4)\n",
      "(150, 4)\n"
     ]
    }
   ],
   "source": [
    "### read data and find feature means\n",
    "### iris: noiseless data\n",
    "### x1, x2, x3, x4, x5: noisy data\n",
    "\n",
    "x1 = pd.read_csv(\"dataI.csv\", header = 0).values\n",
    "x2 = pd.read_csv(\"dataII.csv\", header = 0).values\n",
    "x3 = pd.read_csv(\"dataIII.csv\", header = 0).values\n",
    "x4 = pd.read_csv(\"dataIV.csv\", header = 0).values\n",
    "x5 = pd.read_csv(\"dataV.csv\", header = 0).values\n",
    "x = [x1,x2,x3,x4,x5]\n",
    "iris = pd.read_csv(\"iris.csv\", header=0).values\n",
    "print(x1.shape)\n",
    "\n",
    "mean = []\n",
    "for xi in x:\n",
    "    mean.append(np.mean(xi, axis=0)) # find mean of noisy data\n",
    "nl_mean = np.mean(iris,axis=0) # find mean of noiseless data\n",
    "# print(mean[0].shape)\n",
    "\n",
    "### pca data reconstruction trained by noisy data\n",
    "pca = PCA()\n",
    "mses = np.zeros((5,5))\n",
    "for d in range(5):\n",
    "    data = x[d]\n",
    "#     print(data.shape)\n",
    "    for c in range(5):\n",
    "        pca.fit(data) # use noisy data as training data by finding its mean and covariance\n",
    "#         print(pca.transform(data)[:,:c].shape)\n",
    "#         print(pca.transform(data).shape)\n",
    "        x_hat = np.dot(pca.transform(data)[:,:c], pca.components_[:c,:]) # multiply PC's with inverse transform data\n",
    "        x_hat += mean[d] # plus mean to reconstruct data\n",
    "        print(x_hat.shape)\n",
    "        mse = 0 \n",
    "        mse = np.sum(np.square(np.subtract(iris, x_hat))) # mse = mean of square of (reconstructed data - noiseless data)\n",
    "        mse = mse/(iris.shape[0])\n",
    "        mses[d,c] = mse\n",
    "        \n",
    "### pca data reconstruction trained by noiseless data\n",
    "nl_pca = PCA()\n",
    "nl_mses = np.zeros((5,5))\n",
    "for d in range(5):\n",
    "    data = x[d]\n",
    "    for c in range(5):\n",
    "        nl_pca.fit(iris) # use noiseless data as training data by finding its mean and covariance\n",
    "        nl_x_hat = np.dot(nl_pca.transform(data)[:,:c], nl_pca.components_[:c,:]) # multiply PC's with inverse transform data\n",
    "        nl_x_hat += nl_mean # plus mean to reconstruct data\n",
    "        nl_mse = np.sum(np.square(np.subtract(iris, nl_x_hat))) # mse = mean of square of (reconstructed data - noiseless data)\n",
    "        nl_mse = nl_mse/(iris.shape[0])\n",
    "        nl_mses[d,c] = nl_mse"
   ]
  },
  {
   "cell_type": "code",
   "execution_count": 3,
   "metadata": {
    "scrolled": true
   },
   "outputs": [
    {
     "name": "stdout",
     "output_type": "stream",
     "text": [
      "Noisy MSE with PC = 1 for data 1:  4.543119029074549\n",
      "Noiseless MSE with PC = 1 for data 1:  4.5424706666666665\n",
      "\n",
      "Noisy MSE with PC = 2 for data 1:  0.3846135339576175\n",
      "Noiseless MSE with PC = 2 for data 1:  0.3834503115049846\n",
      "\n",
      "Noisy MSE with PC = 3 for data 1:  0.17781528266962573\n",
      "Noiseless MSE with PC = 3 for data 1:  0.17556300024433905\n",
      "\n",
      "Noisy MSE with PC = 4 for data 1:  0.14444050603137717\n",
      "Noiseless MSE with PC = 4 for data 1:  0.1417836480045702\n",
      "\n",
      "Noisy MSE with PC = 5 for data 1:  0.16083836180763803\n",
      "Noiseless MSE with PC = 5 for data 1:  0.16083836180763816\n",
      "\n",
      "Noisy MSE with PC = 1 for data 2:  4.549538992715444\n",
      "Noiseless MSE with PC = 1 for data 2:  4.5424706666666665\n",
      "\n",
      "Noisy MSE with PC = 2 for data 2:  0.6486421084108526\n",
      "Noiseless MSE with PC = 2 for data 2:  0.6410931849009851\n",
      "\n",
      "Noisy MSE with PC = 3 for data 2:  0.750621128999985\n",
      "Noiseless MSE with PC = 3 for data 2:  0.7156284875049569\n",
      "\n",
      "Noisy MSE with PC = 4 for data 2:  0.941972819285058\n",
      "Noiseless MSE with PC = 4 for data 2:  0.9083929073982753\n",
      "\n",
      "Noisy MSE with PC = 5 for data 2:  1.1156578578493095\n",
      "Noiseless MSE with PC = 5 for data 2:  1.1156578578493093\n",
      "\n",
      "Noisy MSE with PC = 1 for data 3:  4.557472963930545\n",
      "Noiseless MSE with PC = 1 for data 3:  4.5424706666666665\n",
      "\n",
      "Noisy MSE with PC = 2 for data 3:  1.323462148041877\n",
      "Noiseless MSE with PC = 2 for data 3:  1.2903724507598011\n",
      "\n",
      "Noisy MSE with PC = 3 for data 3:  2.1197480492819563\n",
      "Noiseless MSE with PC = 3 for data 3:  1.9672403923798727\n",
      "\n",
      "Noisy MSE with PC = 4 for data 3:  3.0273799199753313\n",
      "Noiseless MSE with PC = 4 for data 3:  2.650841135132737\n",
      "\n",
      "Noisy MSE with PC = 5 for data 3:  3.6532797325111095\n",
      "Noiseless MSE with PC = 5 for data 3:  3.6532797325111104\n",
      "\n",
      "Noisy MSE with PC = 1 for data 4:  4.566198666666667\n",
      "Noiseless MSE with PC = 1 for data 4:  4.5424706666666665\n",
      "\n",
      "Noisy MSE with PC = 2 for data 4:  0.840614157257198\n",
      "Noiseless MSE with PC = 2 for data 4:  0.7999427437338251\n",
      "\n",
      "Noisy MSE with PC = 3 for data 4:  1.2070897968259071\n",
      "Noiseless MSE with PC = 3 for data 4:  0.8280825547067433\n",
      "\n",
      "Noisy MSE with PC = 4 for data 4:  1.2711919671860714\n",
      "Noiseless MSE with PC = 4 for data 4:  0.9849497682406682\n",
      "\n",
      "Noisy MSE with PC = 5 for data 4:  1.1939999999999997\n",
      "Noiseless MSE with PC = 5 for data 4:  1.1940000000000006\n",
      "\n",
      "Noisy MSE with PC = 1 for data 5:  4.919928\n",
      "Noiseless MSE with PC = 1 for data 5:  4.5424706666666665\n",
      "\n",
      "Noisy MSE with PC = 2 for data 5:  2.835679428026429\n",
      "Noiseless MSE with PC = 2 for data 5:  1.9177677499460624\n",
      "\n",
      "Noisy MSE with PC = 3 for data 5:  4.6514345027170885\n",
      "Noiseless MSE with PC = 3 for data 5:  3.331722103940331\n",
      "\n",
      "Noisy MSE with PC = 4 for data 5:  4.971247271525597\n",
      "Noiseless MSE with PC = 4 for data 5:  4.54825719724983\n",
      "\n",
      "Noisy MSE with PC = 5 for data 5:  5.139266666666664\n",
      "Noiseless MSE with PC = 5 for data 5:  5.139266666666669\n",
      "\n"
     ]
    }
   ],
   "source": [
    "for row in range(5):\n",
    "    for col in range(5):\n",
    "        print('Noisy MSE with PC = %d for data %d: '%(col+1, row+1) ,mses[row, col])\n",
    "        print('Noiseless MSE with PC = %d for data %d: '%(col+1, row+1) ,nl_mses[row, col])\n",
    "        print()"
   ]
  }
 ],
 "metadata": {
  "kernelspec": {
   "display_name": "Python 3",
   "language": "python",
   "name": "python3"
  },
  "language_info": {
   "codemirror_mode": {
    "name": "ipython",
    "version": 3
   },
   "file_extension": ".py",
   "mimetype": "text/x-python",
   "name": "python",
   "nbconvert_exporter": "python",
   "pygments_lexer": "ipython3",
   "version": "3.6.8"
  },
  "varInspector": {
   "cols": {
    "lenName": 16,
    "lenType": 16,
    "lenVar": 40
   },
   "kernels_config": {
    "python": {
     "delete_cmd_postfix": "",
     "delete_cmd_prefix": "del ",
     "library": "var_list.py",
     "varRefreshCmd": "print(var_dic_list())"
    },
    "r": {
     "delete_cmd_postfix": ") ",
     "delete_cmd_prefix": "rm(",
     "library": "var_list.r",
     "varRefreshCmd": "cat(var_dic_list()) "
    }
   },
   "types_to_exclude": [
    "module",
    "function",
    "builtin_function_or_method",
    "instance",
    "_Feature"
   ],
   "window_display": false
  }
 },
 "nbformat": 4,
 "nbformat_minor": 2
}
