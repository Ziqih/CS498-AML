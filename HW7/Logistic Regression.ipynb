{
 "cells": [
  {
   "cell_type": "code",
   "execution_count": 1,
   "metadata": {},
   "outputs": [],
   "source": [
    "import numpy as np\n",
    "import pandas as pd"
   ]
  },
  {
   "cell_type": "code",
   "execution_count": 2,
   "metadata": {},
   "outputs": [],
   "source": [
    "data = pd.read_csv('train.csv', header=None).values\n",
    "data[np.where(data == ' <=50K')] = 0\n",
    "data[np.where(data == ' >50K')] = 1\n",
    "data = data[:, [0,2,4,10,11,12,-1]]# only use numerical features and the last column(label)\n",
    "split = int(0.9*data.shape[0]) \n",
    "rand_idx = np.arange(data.shape[0])\n",
    "np.random.shuffle(rand_idx)\n",
    "train = data[rand_idx[0:split]].astype(float)\n",
    "train_x = train[:, 0:-1]\n",
    "train_mean = np.mean(train_x, axis = 0)\n",
    "train_std = np.std(train_x, axis = 0)\n",
    "train_x = (train_x - train_mean) / train_std\n",
    "train_y = train[:, -1]\n",
    "w = np.ones((6,1))/10"
   ]
  },
  {
   "cell_type": "code",
   "execution_count": 3,
   "metadata": {},
   "outputs": [],
   "source": [
    "def sigmoid(z):\n",
    "    return 1 / (1+np.exp(-z))\n",
    "\n",
    "def loss(w, x, y):\n",
    "    N = x.shape[0]\n",
    "    L = 0\n",
    "    for i in range(N):\n",
    "        p = sigmoid(np.dot(x[i], w))\n",
    "        L += y[i] * np.log(p, dtype = 'float32') + (1-y[i]) * np.log(1-p, dtype = 'float32')\n",
    "    return L\n",
    "\n",
    "def GD(w, x, y):\n",
    "    N = x.shape[0]\n",
    "    GD = 0\n",
    "    for i in range(N):\n",
    "        p = sigmoid(np.dot(x[i], w))\n",
    "        GD += (y[i] - p) * x[i]\n",
    "    return GD.reshape(-1,1)\n",
    "\n",
    "def update(w, x, y, epoch):\n",
    "    N = x.shape[0]\n",
    "    for ite in range(1,epoch+1):\n",
    "        print('iteration ', ite)\n",
    "        step = 0.0001\n",
    "        w_grad = GD(w, x, y)\n",
    "        w += step * w_grad\n",
    "        if np.abs(loss(w, x, y)) <= 20:\n",
    "            break\n",
    "    return w"
   ]
  },
  {
   "cell_type": "code",
   "execution_count": 4,
   "metadata": {
    "scrolled": true
   },
   "outputs": [
    {
     "name": "stdout",
     "output_type": "stream",
     "text": [
      "iteration  1\n",
      "iteration  2\n",
      "iteration  3\n",
      "iteration  4\n",
      "iteration  5\n",
      "iteration  6\n",
      "iteration  7\n",
      "iteration  8\n",
      "iteration  9\n",
      "iteration  10\n",
      "iteration  11\n",
      "iteration  12\n",
      "iteration  13\n",
      "iteration  14\n",
      "iteration  15\n",
      "iteration  16\n",
      "iteration  17\n",
      "iteration  18\n",
      "iteration  19\n",
      "iteration  20\n"
     ]
    },
    {
     "name": "stderr",
     "output_type": "stream",
     "text": [
      "/Users/stevenchan/anaconda3/lib/python3.6/site-packages/ipykernel_launcher.py:9: RuntimeWarning: divide by zero encountered in log\n",
      "  if __name__ == '__main__':\n",
      "/Users/stevenchan/anaconda3/lib/python3.6/site-packages/ipykernel_launcher.py:9: RuntimeWarning: invalid value encountered in multiply\n",
      "  if __name__ == '__main__':\n"
     ]
    },
    {
     "name": "stdout",
     "output_type": "stream",
     "text": [
      "iteration  21\n",
      "iteration  22\n",
      "iteration  23\n",
      "iteration  24\n",
      "iteration  25\n",
      "iteration  26\n",
      "iteration  27\n",
      "iteration  28\n",
      "iteration  29\n",
      "iteration  30\n",
      "iteration  31\n",
      "iteration  32\n",
      "iteration  33\n",
      "iteration  34\n",
      "iteration  35\n",
      "iteration  36\n",
      "iteration  37\n",
      "iteration  38\n",
      "iteration  39\n",
      "iteration  40\n",
      "iteration  41\n",
      "iteration  42\n",
      "iteration  43\n",
      "iteration  44\n",
      "iteration  45\n",
      "iteration  46\n",
      "iteration  47\n",
      "iteration  48\n",
      "iteration  49\n",
      "iteration  50\n",
      "iteration  51\n",
      "iteration  52\n",
      "iteration  53\n",
      "iteration  54\n",
      "iteration  55\n",
      "iteration  56\n",
      "iteration  57\n",
      "iteration  58\n",
      "iteration  59\n",
      "iteration  60\n",
      "iteration  61\n",
      "iteration  62\n",
      "iteration  63\n",
      "iteration  64\n",
      "iteration  65\n",
      "iteration  66\n",
      "iteration  67\n",
      "iteration  68\n",
      "iteration  69\n",
      "iteration  70\n",
      "iteration  71\n",
      "iteration  72\n",
      "iteration  73\n",
      "iteration  74\n",
      "iteration  75\n",
      "iteration  76\n",
      "iteration  77\n",
      "iteration  78\n",
      "iteration  79\n",
      "iteration  80\n",
      "iteration  81\n",
      "iteration  82\n",
      "iteration  83\n",
      "iteration  84\n",
      "iteration  85\n",
      "iteration  86\n",
      "iteration  87\n",
      "iteration  88\n",
      "iteration  89\n",
      "iteration  90\n",
      "iteration  91\n",
      "iteration  92\n",
      "iteration  93\n",
      "iteration  94\n",
      "iteration  95\n",
      "iteration  96\n",
      "iteration  97\n",
      "iteration  98\n",
      "iteration  99\n",
      "iteration  100\n"
     ]
    }
   ],
   "source": [
    "new_w = update(w.copy(), train_x, train_y, 100)"
   ]
  },
  {
   "cell_type": "code",
   "execution_count": 5,
   "metadata": {},
   "outputs": [
    {
     "name": "stdout",
     "output_type": "stream",
     "text": [
      "0.7911737943585078\n"
     ]
    }
   ],
   "source": [
    "val = data[rand_idx[split:]].astype(float)\n",
    "val_x = val[:, 0:-1]\n",
    "val_mean = np.mean(val_x, axis = 0)\n",
    "val_std = np.std(val_x, axis = 0)\n",
    "val_x = (val_x - val_mean) / val_std\n",
    "val_y = val[:, -1]\n",
    "N = val_x.shape[0]\n",
    "err = 0\n",
    "for i in range(N):\n",
    "    p = sigmoid(np.dot(val_x[i], new_w))\n",
    "    if p >= 0.5:\n",
    "        pred = 1\n",
    "    else:\n",
    "        pred = 0\n",
    "    if pred != val_y[i]:\n",
    "        err += 1\n",
    "acc = 1-err/N\n",
    "print(acc)"
   ]
  },
  {
   "cell_type": "code",
   "execution_count": 6,
   "metadata": {
    "scrolled": true
   },
   "outputs": [
    {
     "data": {
      "text/plain": [
       "0.8209736123748863"
      ]
     },
     "execution_count": 6,
     "metadata": {},
     "output_type": "execute_result"
    }
   ],
   "source": [
    "from sklearn.linear_model import LogisticRegression\n",
    "clf = LogisticRegression(random_state=0, solver='lbfgs', multi_class='ovr').fit(train_x, train_y)\n",
    "clf.score(val_x, val_y)"
   ]
  }
 ],
 "metadata": {
  "kernelspec": {
   "display_name": "Python 3",
   "language": "python",
   "name": "python3"
  },
  "language_info": {
   "codemirror_mode": {
    "name": "ipython",
    "version": 3
   },
   "file_extension": ".py",
   "mimetype": "text/x-python",
   "name": "python",
   "nbconvert_exporter": "python",
   "pygments_lexer": "ipython3",
   "version": "3.6.6"
  },
  "varInspector": {
   "cols": {
    "lenName": 16,
    "lenType": 16,
    "lenVar": 40
   },
   "kernels_config": {
    "python": {
     "delete_cmd_postfix": "",
     "delete_cmd_prefix": "del ",
     "library": "var_list.py",
     "varRefreshCmd": "print(var_dic_list())"
    },
    "r": {
     "delete_cmd_postfix": ") ",
     "delete_cmd_prefix": "rm(",
     "library": "var_list.r",
     "varRefreshCmd": "cat(var_dic_list()) "
    }
   },
   "types_to_exclude": [
    "module",
    "function",
    "builtin_function_or_method",
    "instance",
    "_Feature"
   ],
   "window_display": false
  }
 },
 "nbformat": 4,
 "nbformat_minor": 2
}
