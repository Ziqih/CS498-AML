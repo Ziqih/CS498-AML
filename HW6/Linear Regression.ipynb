{
 "cells": [
  {
   "cell_type": "code",
   "execution_count": 1,
   "metadata": {},
   "outputs": [],
   "source": [
    "import numpy as np"
   ]
  },
  {
   "cell_type": "code",
   "execution_count": 2,
   "metadata": {},
   "outputs": [
    {
     "name": "stdout",
     "output_type": "stream",
     "text": [
      "(404, 14) (102, 14)\n"
     ]
    }
   ],
   "source": [
    "dataset = []\n",
    "with open('data.txt','r') as f:\n",
    "    for line in f:\n",
    "        data = []\n",
    "        for num in line.split():\n",
    "            data.append(float(num))\n",
    "        dataset.append(data)\n",
    "dataset = np.array(dataset)\n",
    "x_temp = dataset[:, 0:-1]\n",
    "extend = np.ones((x_temp.shape[0],1))\n",
    "x = np.concatenate((x_temp, extend), axis = 1)\n",
    "y = dataset[:, -1].reshape(-1, 1)\n",
    "\n",
    "N = x.shape[0]\n",
    "train_x = x[0:int(0.8*N)]\n",
    "train_y = y[0:int(0.8*N)]\n",
    "val_x = x[int(0.8*N):]\n",
    "val_y = y[int(0.8*N):]\n",
    "print(train_x.shape, val_x.shape)"
   ]
  },
  {
   "cell_type": "code",
   "execution_count": 3,
   "metadata": {},
   "outputs": [],
   "source": [
    "### initialize w and b\n",
    "### b can be omitted by extending the dimension of w by 1\n",
    "### As a result, the dimension of feature needs to be extended by 1 as well\n",
    "\n",
    "w = np.mean(train_x, axis = 0).T.reshape(-1,1)"
   ]
  },
  {
   "cell_type": "code",
   "execution_count": 4,
   "metadata": {},
   "outputs": [],
   "source": [
    "def loss(w, x, y):\n",
    "    N = x.shape[0]\n",
    "    y_hat = np.dot(x, w)\n",
    "    loss = 1 / N * np.sum(np.square(y_hat - y))\n",
    "    return loss\n",
    "\n",
    "def update(w, x, y,  epoch):\n",
    "    N = x.shape[0]\n",
    "    for ite in range(epoch):\n",
    "        step = 0.0001/(ite+1)\n",
    "        y_hat = np.dot(x, w)\n",
    "        diff = y_hat - y\n",
    "        w_grad = np.matmul(diff.T , x)/N\n",
    "        w -= step*w_grad.T\n",
    "    return w"
   ]
  },
  {
   "cell_type": "code",
   "execution_count": 5,
   "metadata": {
    "scrolled": true
   },
   "outputs": [
    {
     "name": "stdout",
     "output_type": "stream",
     "text": [
      "-25.329241910299434\n",
      "[[ 2.76249946e-02]\n",
      " [ 9.17368477e-01]\n",
      " [ 8.49513161e-04]\n",
      " [ 1.39668989e-02]\n",
      " [ 1.41061532e-02]\n",
      " [ 1.67969919e-01]\n",
      " [ 1.18656403e+00]\n",
      " [ 1.68612160e-01]\n",
      " [-2.94486652e-01]\n",
      " [-1.19799661e-01]\n",
      " [ 3.17853374e-01]\n",
      " [-7.52858121e-02]\n",
      " [ 2.38978140e-01]\n",
      " [ 2.70397971e-02]]\n"
     ]
    }
   ],
   "source": [
    "new_w = update(w.copy(), x, y, 10000)\n",
    "val_y_hat = np.dot(val_x, new_w)\n",
    "val_y_mean = np.mean(val_y)\n",
    "SSR = np.sum(np.square(val_y - val_y_hat))\n",
    "SST = np.sum(np.square(val_y - val_y_mean))\n",
    "score = 1 -  SSR/SST\n",
    "print(score)\n",
    "print(new_w)"
   ]
  },
  {
   "cell_type": "code",
   "execution_count": 6,
   "metadata": {
    "scrolled": false
   },
   "outputs": [
    {
     "name": "stdout",
     "output_type": "stream",
     "text": [
      "-0.2198531504042238\n",
      "[[-2.02135297e-01  4.41276341e-02  5.26739364e-02  1.88474315e+00\n",
      "  -1.49281487e+01  4.76038673e+00  2.88734527e-03 -1.30025278e+00\n",
      "   4.61661953e-01 -1.55434673e-02 -8.11632369e-01 -1.97174433e-03\n",
      "  -5.32273431e-01  0.00000000e+00]]\n"
     ]
    },
    {
     "name": "stderr",
     "output_type": "stream",
     "text": [
      "/Users/stevenchan/anaconda3/lib/python3.6/site-packages/sklearn/linear_model/base.py:485: RuntimeWarning: internal gelsd driver lwork query error, required iwork dimension not returned. This is likely the result of LAPACK bug 0038, fixed in LAPACK 3.2.2 (released July 21, 2010). Falling back to 'gelss' driver.\n",
      "  linalg.lstsq(X, y)\n"
     ]
    }
   ],
   "source": [
    "from sklearn.linear_model import LinearRegression\n",
    "reg = LinearRegression().fit(train_x, train_y)\n",
    "print(reg.score(val_x, val_y))\n",
    "print(reg.coef_)"
   ]
  }
 ],
 "metadata": {
  "kernelspec": {
   "display_name": "Python 3",
   "language": "python",
   "name": "python3"
  },
  "language_info": {
   "codemirror_mode": {
    "name": "ipython",
    "version": 3
   },
   "file_extension": ".py",
   "mimetype": "text/x-python",
   "name": "python",
   "nbconvert_exporter": "python",
   "pygments_lexer": "ipython3",
   "version": "3.6.6"
  },
  "varInspector": {
   "cols": {
    "lenName": 16,
    "lenType": 16,
    "lenVar": 40
   },
   "kernels_config": {
    "python": {
     "delete_cmd_postfix": "",
     "delete_cmd_prefix": "del ",
     "library": "var_list.py",
     "varRefreshCmd": "print(var_dic_list())"
    },
    "r": {
     "delete_cmd_postfix": ") ",
     "delete_cmd_prefix": "rm(",
     "library": "var_list.r",
     "varRefreshCmd": "cat(var_dic_list()) "
    }
   },
   "types_to_exclude": [
    "module",
    "function",
    "builtin_function_or_method",
    "instance",
    "_Feature"
   ],
   "window_display": false
  }
 },
 "nbformat": 4,
 "nbformat_minor": 2
}
