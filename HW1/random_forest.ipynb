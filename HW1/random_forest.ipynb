{
 "cells": [
  {
   "cell_type": "code",
   "execution_count": 1,
   "metadata": {},
   "outputs": [],
   "source": [
    "import pandas as pd\n",
    "import numpy as np\n",
    "import matplotlib.pyplot as plt\n",
    "from scipy.misc import imresize"
   ]
  },
  {
   "cell_type": "code",
   "execution_count": 2,
   "metadata": {},
   "outputs": [
    {
     "name": "stderr",
     "output_type": "stream",
     "text": [
      "/Users/stevenchan/anaconda3/lib/python3.6/site-packages/ipykernel_launcher.py:11: DeprecationWarning: `imresize` is deprecated!\n",
      "`imresize` is deprecated in SciPy 1.0.0, and will be removed in 1.2.0.\n",
      "Use ``skimage.transform.resize`` instead.\n",
      "  # This is added back by InteractiveShellApp.init_path()\n"
     ]
    }
   ],
   "source": [
    "# a user-defined function that rescale 28x28 images to 20x20\n",
    "def rescale(ims_in):\n",
    "    ims_out = np.empty([ims_in.shape[0],400])\n",
    "    for i in range(ims_in.shape[0]):\n",
    "        im_in = np.reshape(ims_in[i], (28,28))\n",
    "        x_min = (min(np.nonzero(im_in)[1]))\n",
    "        x_max = (max(np.nonzero(im_in)[1]))\n",
    "        y_min = (min(np.nonzero(im_in)[0]))\n",
    "        y_max = (max(np.nonzero(im_in)[0]))\n",
    "        im_in = im_in[y_min:y_max, x_min:x_max]\n",
    "        im_in = imresize(im_in, (20,20))\n",
    "        ims_out[i] = np.ravel(im_in)\n",
    "    return ims_out\n",
    "\n",
    "# pre-processing training, validation and testing data\n",
    "\n",
    "train_data = pd.read_csv('train.csv', header=0).values\n",
    "train_feature = train_data[:,2:]\n",
    "train_label = train_data[:,1]\n",
    "\n",
    "val_data = pd.read_csv('val.csv', header=0).values\n",
    "val_feature = val_data[:,1:]\n",
    "val_label = val_data[:,0]\n",
    "\n",
    "test_data = pd.read_csv('test.csv', header=None).values\n",
    "test_feature = test_data\n",
    "\n",
    "# rescale each 28x28 image to 20x20 such that every digits fully fit into the bounding box\n",
    "# if the pixel value is greater than or equal to 128, scale to 1\n",
    "# otherwise, scale to 0\n",
    "\n",
    "train_feature = rescale(train_feature)\n",
    "train_feature[np.where(train_feature < 128)]-=train_feature[np.where(train_feature < 128)]\n",
    "train_feature[np.where(train_feature >= 128)]/=train_feature[np.where(train_feature >= 128)]\n",
    "\n",
    "val_feature = rescale(val_feature)\n",
    "val_feature[np.where(val_feature < 128)]-=val_feature[np.where(val_feature < 128)]\n",
    "val_feature[np.where(val_feature >= 128)]/=val_feature[np.where(val_feature >= 128)]\n",
    "\n",
    "test_feature = rescale(test_feature)\n",
    "test_feature[np.where(test_feature < 128)]-=test_feature[np.where(test_feature < 128)]\n",
    "test_feature[np.where(test_feature >= 128)]/=test_feature[np.where(test_feature >= 128)]"
   ]
  },
  {
   "cell_type": "code",
   "execution_count": 3,
   "metadata": {},
   "outputs": [
    {
     "name": "stdout",
     "output_type": "stream",
     "text": [
      "10 trees and 4 depth:  0.688\n",
      "10 trees and 16 depth:  0.973\n",
      "30 trees and 4 depth:  0.7325\n",
      "30 trees and 16 depth:  0.98\n"
     ]
    }
   ],
   "source": [
    "from sklearn.ensemble import RandomForestClassifier\n",
    "\n",
    "clf = RandomForestClassifier(n_estimators=10, max_depth=4)\n",
    "clf.fit(train_feature, train_label)\n",
    "print('10 trees and 4 depth: ', clf.score(val_feature, val_label))\n",
    "test_label = clf.predict(test_feature)\n",
    "test_label = np.asarray(test_label, dtype = np.int32)\n",
    "\n",
    "clf = RandomForestClassifier(n_estimators=10, max_depth=16)\n",
    "clf.fit(train_feature, train_label)\n",
    "print('10 trees and 16 depth: ', clf.score(val_feature, val_label))\n",
    "test_label = clf.predict(test_feature)\n",
    "test_label = np.asarray(test_label, dtype = np.int32)\n",
    "\n",
    "clf = RandomForestClassifier(n_estimators=30, max_depth=4)\n",
    "clf.fit(train_feature, train_label)\n",
    "print('30 trees and 4 depth: ', clf.score(val_feature, val_label))\n",
    "test_label = clf.predict(test_feature)\n",
    "test_label = np.asarray(test_label, dtype = np.int32)\n",
    "\n",
    "clf = RandomForestClassifier(n_estimators=30, max_depth=16)\n",
    "clf.fit(train_feature, train_label)\n",
    "print('30 trees and 16 depth: ', clf.score(val_feature, val_label))\n",
    "test_label = clf.predict(test_feature)\n",
    "test_label = np.asarray(test_label, dtype = np.int32)"
   ]
  }
 ],
 "metadata": {
  "kernelspec": {
   "display_name": "Python 3",
   "language": "python",
   "name": "python3"
  },
  "language_info": {
   "codemirror_mode": {
    "name": "ipython",
    "version": 3
   },
   "file_extension": ".py",
   "mimetype": "text/x-python",
   "name": "python",
   "nbconvert_exporter": "python",
   "pygments_lexer": "ipython3",
   "version": "3.6.6"
  }
 },
 "nbformat": 4,
 "nbformat_minor": 2
}
