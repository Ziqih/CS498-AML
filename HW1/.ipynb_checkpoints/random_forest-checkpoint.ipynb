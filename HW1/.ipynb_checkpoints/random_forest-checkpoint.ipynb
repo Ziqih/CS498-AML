{
 "cells": [
  {
   "cell_type": "code",
   "execution_count": 1,
   "metadata": {},
   "outputs": [],
   "source": [
    "import pandas as pd\n",
    "import numpy as np\n",
    "import matplotlib.pyplot as plt\n",
    "from scipy.misc import imresize"
   ]
  },
  {
   "cell_type": "code",
   "execution_count": 2,
   "metadata": {},
   "outputs": [
    {
     "ename": "error",
     "evalue": "OpenCV(3.4.4) /Users/travis/build/skvark/opencv-python/opencv/modules/imgproc/src/resize.cpp:3662: error: (-215:Assertion failed) func != 0 in function 'resize'\n",
     "output_type": "error",
     "traceback": [
      "\u001b[0;31m---------------------------------------------------------------------------\u001b[0m",
      "\u001b[0;31merror\u001b[0m                                     Traceback (most recent call last)",
      "\u001b[0;32m<ipython-input-2-239680ab6d6b>\u001b[0m in \u001b[0;36m<module>\u001b[0;34m\u001b[0m\n\u001b[1;32m     30\u001b[0m \u001b[0;31m# otherwise, scale to 0\u001b[0m\u001b[0;34m\u001b[0m\u001b[0;34m\u001b[0m\u001b[0m\n\u001b[1;32m     31\u001b[0m \u001b[0;34m\u001b[0m\u001b[0m\n\u001b[0;32m---> 32\u001b[0;31m \u001b[0mtrain_feature\u001b[0m \u001b[0;34m=\u001b[0m \u001b[0mrescale\u001b[0m\u001b[0;34m(\u001b[0m\u001b[0mtrain_feature\u001b[0m\u001b[0;34m)\u001b[0m\u001b[0;34m\u001b[0m\u001b[0m\n\u001b[0m\u001b[1;32m     33\u001b[0m \u001b[0mtrain_feature\u001b[0m\u001b[0;34m[\u001b[0m\u001b[0mnp\u001b[0m\u001b[0;34m.\u001b[0m\u001b[0mwhere\u001b[0m\u001b[0;34m(\u001b[0m\u001b[0mtrain_feature\u001b[0m \u001b[0;34m<\u001b[0m \u001b[0;36m128\u001b[0m\u001b[0;34m)\u001b[0m\u001b[0;34m]\u001b[0m\u001b[0;34m-=\u001b[0m\u001b[0mtrain_feature\u001b[0m\u001b[0;34m[\u001b[0m\u001b[0mnp\u001b[0m\u001b[0;34m.\u001b[0m\u001b[0mwhere\u001b[0m\u001b[0;34m(\u001b[0m\u001b[0mtrain_feature\u001b[0m \u001b[0;34m<\u001b[0m \u001b[0;36m128\u001b[0m\u001b[0;34m)\u001b[0m\u001b[0;34m]\u001b[0m\u001b[0;34m\u001b[0m\u001b[0m\n\u001b[1;32m     34\u001b[0m \u001b[0mtrain_feature\u001b[0m\u001b[0;34m[\u001b[0m\u001b[0mnp\u001b[0m\u001b[0;34m.\u001b[0m\u001b[0mwhere\u001b[0m\u001b[0;34m(\u001b[0m\u001b[0mtrain_feature\u001b[0m \u001b[0;34m>=\u001b[0m \u001b[0;36m128\u001b[0m\u001b[0;34m)\u001b[0m\u001b[0;34m]\u001b[0m\u001b[0;34m/=\u001b[0m\u001b[0mtrain_feature\u001b[0m\u001b[0;34m[\u001b[0m\u001b[0mnp\u001b[0m\u001b[0;34m.\u001b[0m\u001b[0mwhere\u001b[0m\u001b[0;34m(\u001b[0m\u001b[0mtrain_feature\u001b[0m \u001b[0;34m>=\u001b[0m \u001b[0;36m128\u001b[0m\u001b[0;34m)\u001b[0m\u001b[0;34m]\u001b[0m\u001b[0;34m\u001b[0m\u001b[0m\n",
      "\u001b[0;32m<ipython-input-2-239680ab6d6b>\u001b[0m in \u001b[0;36mrescale\u001b[0;34m(ims_in)\u001b[0m\n\u001b[1;32m      9\u001b[0m         \u001b[0my_max\u001b[0m \u001b[0;34m=\u001b[0m \u001b[0;34m(\u001b[0m\u001b[0mmax\u001b[0m\u001b[0;34m(\u001b[0m\u001b[0mnp\u001b[0m\u001b[0;34m.\u001b[0m\u001b[0mnonzero\u001b[0m\u001b[0;34m(\u001b[0m\u001b[0mim_in\u001b[0m\u001b[0;34m)\u001b[0m\u001b[0;34m[\u001b[0m\u001b[0;36m0\u001b[0m\u001b[0;34m]\u001b[0m\u001b[0;34m)\u001b[0m\u001b[0;34m)\u001b[0m\u001b[0;34m\u001b[0m\u001b[0m\n\u001b[1;32m     10\u001b[0m         \u001b[0mim_in\u001b[0m \u001b[0;34m=\u001b[0m \u001b[0mim_in\u001b[0m\u001b[0;34m[\u001b[0m\u001b[0my_min\u001b[0m\u001b[0;34m:\u001b[0m\u001b[0my_max\u001b[0m\u001b[0;34m,\u001b[0m \u001b[0mx_min\u001b[0m\u001b[0;34m:\u001b[0m\u001b[0mx_max\u001b[0m\u001b[0;34m]\u001b[0m\u001b[0;34m\u001b[0m\u001b[0m\n\u001b[0;32m---> 11\u001b[0;31m         \u001b[0mim_in\u001b[0m \u001b[0;34m=\u001b[0m \u001b[0mcv2\u001b[0m\u001b[0;34m.\u001b[0m\u001b[0mresize\u001b[0m\u001b[0;34m(\u001b[0m\u001b[0mim_in\u001b[0m\u001b[0;34m,\u001b[0m \u001b[0;34m(\u001b[0m\u001b[0;36m20\u001b[0m\u001b[0;34m,\u001b[0m\u001b[0;36m20\u001b[0m\u001b[0;34m)\u001b[0m\u001b[0;34m)\u001b[0m\u001b[0;34m\u001b[0m\u001b[0m\n\u001b[0m\u001b[1;32m     12\u001b[0m         \u001b[0mims_out\u001b[0m\u001b[0;34m[\u001b[0m\u001b[0mi\u001b[0m\u001b[0;34m]\u001b[0m \u001b[0;34m=\u001b[0m \u001b[0mnp\u001b[0m\u001b[0;34m.\u001b[0m\u001b[0mravel\u001b[0m\u001b[0;34m(\u001b[0m\u001b[0mim_in\u001b[0m\u001b[0;34m)\u001b[0m\u001b[0;34m\u001b[0m\u001b[0m\n\u001b[1;32m     13\u001b[0m     \u001b[0;32mreturn\u001b[0m \u001b[0mims_out\u001b[0m\u001b[0;34m\u001b[0m\u001b[0m\n",
      "\u001b[0;31merror\u001b[0m: OpenCV(3.4.4) /Users/travis/build/skvark/opencv-python/opencv/modules/imgproc/src/resize.cpp:3662: error: (-215:Assertion failed) func != 0 in function 'resize'\n"
     ]
    }
   ],
   "source": [
    "# a user-defined function that rescale 28x28 images to 20x20\n",
    "def rescale(ims_in):\n",
    "    ims_out = np.empty([ims_in.shape[0],400])\n",
    "    for i in range(ims_in.shape[0]):\n",
    "        im_in = np.reshape(ims_in[i], (28,28))\n",
    "        x_min = (min(np.nonzero(im_in)[1]))\n",
    "        x_max = (max(np.nonzero(im_in)[1]))\n",
    "        y_min = (min(np.nonzero(im_in)[0]))\n",
    "        y_max = (max(np.nonzero(im_in)[0]))\n",
    "        im_in = im_in[y_min:y_max, x_min:x_max]\n",
    "        im_in = imresize(im_in, (20,20))\n",
    "        ims_out[i] = np.ravel(im_in)\n",
    "    return ims_out\n",
    "\n",
    "# pre-processing training, validation and testing data\n",
    "\n",
    "train_data = pd.read_csv('train.csv', header=0).values\n",
    "train_feature = train_data[:,2:]\n",
    "train_label = train_data[:,1]\n",
    "\n",
    "val_data = pd.read_csv('val.csv', header=0).values\n",
    "val_feature = val_data[:,1:]\n",
    "val_label = val_data[:,0]\n",
    "\n",
    "test_data = pd.read_csv('test.csv', header=None).values\n",
    "test_feature = test_data\n",
    "\n",
    "# rescale each 28x28 image to 20x20 such that every digits fully fit into the bounding box\n",
    "# if the pixel value is greater than or equal to 128, scale to 1\n",
    "# otherwise, scale to 0\n",
    "\n",
    "train_feature = rescale(train_feature)\n",
    "train_feature[np.where(train_feature < 128)]-=train_feature[np.where(train_feature < 128)]\n",
    "train_feature[np.where(train_feature >= 128)]/=train_feature[np.where(train_feature >= 128)]\n",
    "\n",
    "val_feature = rescale(val_feature)\n",
    "val_feature[np.where(val_feature < 128)]-=val_feature[np.where(val_feature < 128)]\n",
    "val_feature[np.where(val_feature >= 128)]/=val_feature[np.where(val_feature >= 128)]\n",
    "\n",
    "test_feature = rescale(test_feature)\n",
    "test_feature[np.where(test_feature < 128)]-=test_feature[np.where(test_feature < 128)]\n",
    "test_feature[np.where(test_feature >= 128)]/=test_feature[np.where(test_feature >= 128)]"
   ]
  },
  {
   "cell_type": "code",
   "execution_count": null,
   "metadata": {},
   "outputs": [],
   "source": [
    "from sklearn.ensemble import RandomForestClassifier\n",
    "\n",
    "clf = RandomForestClassifier(n_estimators=10, max_depth=4)\n",
    "clf.fit(train_feature, train_label)\n",
    "print('10 trees and 4 depth: ', clf.score(val_feature, val_label))\n",
    "test_label = clf.predict(test_feature)\n",
    "test_label = np.asarray(test_label, dtype = np.int32)\n",
    "\n",
    "clf = RandomForestClassifier(n_estimators=10, max_depth=16)\n",
    "clf.fit(train_feature, train_label)\n",
    "print('10 trees and 16 depth: ', clf.score(val_feature, val_label))\n",
    "test_label = clf.predict(test_feature)\n",
    "test_label = np.asarray(test_label, dtype = np.int32)\n",
    "\n",
    "clf = RandomForestClassifier(n_estimators=30, max_depth=4)\n",
    "clf.fit(train_feature, train_label)\n",
    "print('30 trees and 4 depth: ', clf.score(val_feature, val_label))\n",
    "test_label = clf.predict(test_feature)\n",
    "test_label = np.asarray(test_label, dtype = np.int32)\n",
    "\n",
    "clf = RandomForestClassifier(n_estimators=30, max_depth=16)\n",
    "clf.fit(train_feature, train_label)\n",
    "print('30 trees and 16 depth: ', clf.score(val_feature, val_label))\n",
    "test_label = clf.predict(test_feature)\n",
    "test_label = np.asarray(test_label, dtype = np.int32)"
   ]
  }
 ],
 "metadata": {
  "kernelspec": {
   "display_name": "Python 3",
   "language": "python",
   "name": "python3"
  },
  "language_info": {
   "codemirror_mode": {
    "name": "ipython",
    "version": 3
   },
   "file_extension": ".py",
   "mimetype": "text/x-python",
   "name": "python",
   "nbconvert_exporter": "python",
   "pygments_lexer": "ipython3",
   "version": "3.6.6"
  }
 },
 "nbformat": 4,
 "nbformat_minor": 2
}
