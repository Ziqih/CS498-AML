{
 "cells": [
  {
   "cell_type": "code",
   "execution_count": 1,
   "metadata": {},
   "outputs": [],
   "source": [
    "import pandas as pd\n",
    "import numpy as np\n",
    "from sklearn.svm import SVC"
   ]
  },
  {
   "cell_type": "code",
   "execution_count": 2,
   "metadata": {},
   "outputs": [
    {
     "name": "stdout",
     "output_type": "stream",
     "text": [
      "0.7142857142857143\n",
      "0.7532467532467533\n",
      "0.7272727272727273\n",
      "0.7272727272727273\n",
      "0.8311688311688312\n",
      "0.7727272727272727\n",
      "0.7792207792207793\n",
      "0.8311688311688312\n",
      "0.7597402597402597\n",
      "0.7857142857142857\n"
     ]
    }
   ],
   "source": [
    "# import data\n",
    "data = pd.read_csv('pima-indians-diabetes.csv', header = None).values\n",
    "\n",
    "# Naive Bayes\n",
    "\n",
    "split = int(0.8*data.shape[0]) # randomly split the data set into 80% training and 20% testing\n",
    "\n",
    "# perform cross validation 10 times\n",
    "\n",
    "for i in range(10):\n",
    "    \n",
    "    rand_idx = np.arange(data.shape[0])\n",
    "    np.random.shuffle(rand_idx) \n",
    "    train_data = data[rand_idx[0:split]]\n",
    "    val_data = data[rand_idx[split:]]\n",
    "    \n",
    "    train_feature = train_data[:,0:-1]\n",
    "    train_label = train_data[:, -1]\n",
    "    val_feature = val_data[:, 0:-1]\n",
    "    val_label = val_data[:, -1]\n",
    "    \n",
    "    clf = SVC(kernel = 'linear')\n",
    "    clf.fit(train_feature, train_label)\n",
    "    print(clf.score(val_feature, val_label))"
   ]
  }
 ],
 "metadata": {
  "kernelspec": {
   "display_name": "Python 3",
   "language": "python",
   "name": "python3"
  },
  "language_info": {
   "codemirror_mode": {
    "name": "ipython",
    "version": 3
   },
   "file_extension": ".py",
   "mimetype": "text/x-python",
   "name": "python",
   "nbconvert_exporter": "python",
   "pygments_lexer": "ipython3",
   "version": "3.6.6"
  }
 },
 "nbformat": 4,
 "nbformat_minor": 2
}
