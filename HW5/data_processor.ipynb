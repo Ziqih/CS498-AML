{
 "cells": [
  {
   "cell_type": "code",
   "execution_count": 1,
   "metadata": {},
   "outputs": [],
   "source": [
    "import numpy as np\n",
    "import sklearn\n",
    "import pandas as pd\n",
    "import glob\n",
    "import csv\n",
    "import random\n",
    "from sklearn.model_selection import train_test_split"
   ]
  },
  {
   "cell_type": "code",
   "execution_count": 2,
   "metadata": {
    "scrolled": true
   },
   "outputs": [],
   "source": [
    "def func(f):\n",
    "    file = open(f,\"r\")\n",
    "    list = []\n",
    "    for line in file:\n",
    "        list.append(line[0:2])\n",
    "        list.append(line[3:5])\n",
    "        list.append(line[6:8])\n",
    "    return list"
   ]
  },
  {
   "cell_type": "code",
   "execution_count": 3,
   "metadata": {},
   "outputs": [],
   "source": [
    "big_list = []\n",
    "read_files = glob.glob(\"./HMP_Dataset/Brush_teeth/*.txt\")\n",
    "n_train = int(len(read_files) * 0.9) \n",
    "test_data = read_files[0:n_train]\n",
    "# with open(\"result.txt\", \"w\") as outfile:\n",
    "list_Brush = []\n",
    "for f in test_data:\n",
    "    big_list.append(func(f))  \n",
    "    list_Brush.append(func(f))"
   ]
  },
  {
   "cell_type": "code",
   "execution_count": 4,
   "metadata": {},
   "outputs": [],
   "source": [
    "read_files = glob.glob(\"./HMP_Dataset/Climb_stairs/*.txt\")\n",
    "n_train = int(len(read_files) * 0.9) \n",
    "test_data = read_files[0:n_train]\n",
    "# with open(\"result.txt\", \"w\") as outfile:\n",
    "list_Climb = []\n",
    "for f in test_data:\n",
    "    big_list.append(func(f))  \n",
    "    list_Climb.append(func(f))   "
   ]
  },
  {
   "cell_type": "code",
   "execution_count": 5,
   "metadata": {},
   "outputs": [],
   "source": [
    "read_files = glob.glob(\"./HMP_Dataset/Comb_hair/*.txt\")\n",
    "n_train = int(len(read_files) * 0.9) \n",
    "test_data = read_files[0:n_train]\n",
    "# with open(\"result.txt\", \"w\") as outfile:\n",
    "list_Comb = []\n",
    "for f in test_data:\n",
    "    big_list.append(func(f))  \n",
    "    list_Comb.append(func(f))     "
   ]
  },
  {
   "cell_type": "code",
   "execution_count": 6,
   "metadata": {},
   "outputs": [],
   "source": [
    "read_files = glob.glob(\"./HMP_Dataset/Descend_stairs/*.txt\")\n",
    "n_train = int(len(read_files) * 0.9) \n",
    "test_data = read_files[0:n_train]\n",
    "# with open(\"result.txt\", \"w\") as outfile:\n",
    "list_Descend = []\n",
    "for f in test_data:\n",
    "    big_list.append(func(f))  \n",
    "    list_Descend.append(func(f))     "
   ]
  },
  {
   "cell_type": "code",
   "execution_count": 7,
   "metadata": {},
   "outputs": [],
   "source": [
    "read_files = glob.glob(\"./HMP_Dataset/Drink_glass/*.txt\")\n",
    "n_train = int(len(read_files) * 0.9) \n",
    "test_data = read_files[0:n_train]\n",
    "# with open(\"result.txt\", \"w\") as outfile:\n",
    "list_Drink = []\n",
    "for f in test_data:\n",
    "    big_list.append(func(f))  \n",
    "    list_Drink.append(func(f))   "
   ]
  },
  {
   "cell_type": "code",
   "execution_count": 8,
   "metadata": {},
   "outputs": [],
   "source": [
    "read_files = glob.glob(\"./HMP_Dataset/Eat_meat/*.txt\")\n",
    "n_train = int(len(read_files) * 0.9) \n",
    "test_data = read_files[0:n_train]\n",
    "# with open(\"result.txt\", \"w\") as outfile:\n",
    "list_meat = []\n",
    "for f in test_data:\n",
    "    big_list.append(func(f))  \n",
    "    list_meat.append(func(f))   "
   ]
  },
  {
   "cell_type": "code",
   "execution_count": 9,
   "metadata": {},
   "outputs": [],
   "source": [
    "read_files = glob.glob(\"./HMP_Dataset/Eat_soup/*.txt\")\n",
    "n_train = int(len(read_files) * 0.9) \n",
    "test_data = read_files[0:n_train]\n",
    "# with open(\"result.txt\", \"w\") as outfile:\n",
    "list_soup = []\n",
    "for f in test_data:\n",
    "    big_list.append(func(f))  \n",
    "    list_soup.append(func(f))     "
   ]
  },
  {
   "cell_type": "code",
   "execution_count": 10,
   "metadata": {},
   "outputs": [],
   "source": [
    "read_files = glob.glob(\"./HMP_Dataset/Getup_bed/*.txt\")\n",
    "n_train = int(len(read_files) * 0.9) \n",
    "test_data = read_files[0:n_train]\n",
    "# with open(\"result.txt\", \"w\") as outfile:\n",
    "list_Getup = []\n",
    "for f in test_data:\n",
    "    big_list.append(func(f))  \n",
    "    list_Getup.append(func(f))   "
   ]
  },
  {
   "cell_type": "code",
   "execution_count": 11,
   "metadata": {},
   "outputs": [],
   "source": [
    "read_files = glob.glob(\"./HMP_Dataset/Liedown_bed/*.txt\")\n",
    "n_train = int(len(read_files) * 0.9) \n",
    "test_data = read_files[0:n_train]\n",
    "# with open(\"result.txt\", \"w\") as outfile:\n",
    "list_Liedown = []\n",
    "for f in test_data:\n",
    "    big_list.append(func(f))  \n",
    "    list_Liedown.append(func(f))     "
   ]
  },
  {
   "cell_type": "code",
   "execution_count": 12,
   "metadata": {},
   "outputs": [],
   "source": [
    "read_files = glob.glob(\"./HMP_Dataset/Pour_water/*.txt\")\n",
    "n_train = int(len(read_files) * 0.9) \n",
    "test_data = read_files[0:n_train]\n",
    "# with open(\"result.txt\", \"w\") as outfile:\n",
    "list_Pour = []\n",
    "for f in test_data:\n",
    "    big_list.append(func(f))  \n",
    "    list_Pour.append(func(f))     "
   ]
  },
  {
   "cell_type": "code",
   "execution_count": 13,
   "metadata": {},
   "outputs": [],
   "source": [
    "read_files = glob.glob(\"./HMP_Dataset/Sitdown_chair/*.txt\")\n",
    "n_train = int(len(read_files) * 0.9) \n",
    "test_data = read_files[0:n_train]\n",
    "# with open(\"result.txt\", \"w\") as outfile:\n",
    "list_Sitdown = []\n",
    "for f in test_data:\n",
    "    big_list.append(func(f))  \n",
    "    list_Sitdown.append(func(f))    "
   ]
  },
  {
   "cell_type": "code",
   "execution_count": 14,
   "metadata": {},
   "outputs": [],
   "source": [
    "read_files = glob.glob(\"./HMP_Dataset/Standup_chair/*.txt\")\n",
    "n_train = int(len(read_files) * 0.9) \n",
    "test_data = read_files[0:n_train]\n",
    "# with open(\"result.txt\", \"w\") as outfile:\n",
    "list_Standup = []\n",
    "for f in test_data:\n",
    "    big_list.append(func(f))  \n",
    "    list_Standup.append(func(f))  "
   ]
  },
  {
   "cell_type": "code",
   "execution_count": 15,
   "metadata": {},
   "outputs": [],
   "source": [
    "read_files = glob.glob(\"./HMP_Dataset/Use_telephone/*.txt\")\n",
    "n_train = int(len(read_files) * 0.9) \n",
    "test_Use = read_files[0:n_train]\n",
    "# with open(\"result.txt\", \"w\") as outfile:\n",
    "list_Use = []\n",
    "for f in test_data:\n",
    "    big_list.append(func(f))  \n",
    "    list_Use.append(func(f))  "
   ]
  },
  {
   "cell_type": "code",
   "execution_count": 17,
   "metadata": {},
   "outputs": [],
   "source": [
    "read_files = glob.glob(\"./HMP_Dataset/Walk/*.txt\")\n",
    "n_train = int(len(read_files) * 0.9) \n",
    "test_data = read_files[0:n_train]\n",
    "# with open(\"result.txt\", \"w\") as outfile:\n",
    "list_Walk = []\n",
    "for f in test_data:\n",
    "    big_list.append(func(f))  \n",
    "    list_Walk.append(func(f))  "
   ]
  },
  {
   "cell_type": "code",
   "execution_count": 19,
   "metadata": {},
   "outputs": [
    {
     "name": "stdout",
     "output_type": "stream",
     "text": [
      "0\n"
     ]
    }
   ],
   "source": [
    "print(len(big_list))"
   ]
  },
  {
   "cell_type": "code",
   "execution_count": null,
   "metadata": {},
   "outputs": [],
   "source": []
  }
 ],
 "metadata": {
  "kernelspec": {
   "display_name": "Python 3",
   "language": "python",
   "name": "python3"
  },
  "language_info": {
   "codemirror_mode": {
    "name": "ipython",
    "version": 3
   },
   "file_extension": ".py",
   "mimetype": "text/x-python",
   "name": "python",
   "nbconvert_exporter": "python",
   "pygments_lexer": "ipython3",
   "version": "3.6.6"
  }
 },
 "nbformat": 4,
 "nbformat_minor": 2
}
